{
 "cells": [
  {
   "cell_type": "code",
   "execution_count": 1,
   "metadata": {},
   "outputs": [
    {
     "data": {
      "text/plain": [
       "<Figure size 640x480 with 1 Axes>"
      ]
     },
     "metadata": {},
     "output_type": "display_data"
    }
   ],
   "source": [
    "# use Euler's method; key point:  initial or boundary conditions\n",
    "from numpy import arange,array\n",
    "from pylab import plot,xlabel,ylabel,title,show\n",
    "\n",
    "\n",
    "def f(T,t):\n",
    "    return K*(40-T)\n",
    "\n",
    "K = 0.001 #second, constant\n",
    "T = 0.0 # initial condition at t=0\n",
    "a = 0.0 #time start\n",
    "b = 600.0 # time end, second\n",
    "# for h=1, size of the single step\n",
    "h = 1\n",
    "tpoints = arange(a,b,h)\n",
    "Tpoints = []\n",
    "\n",
    "for t in tpoints:\n",
    "    Tpoints.append(T)\n",
    "    T +=h*f(T,t)\n",
    "plot(tpoints,Tpoints)\n",
    "xlabel(\"time(h=1)\")\n",
    "ylabel(\"Temperature\")\n",
    "title(\"Euler's Method\")\n",
    "show()"
   ]
  },
  {
   "cell_type": "code",
   "execution_count": null,
   "metadata": {},
   "outputs": [],
   "source": []
  }
 ],
 "metadata": {
  "kernelspec": {
   "display_name": "Python 3",
   "language": "python",
   "name": "python3"
  },
  "language_info": {
   "codemirror_mode": {
    "name": "ipython",
    "version": 3
   },
   "file_extension": ".py",
   "mimetype": "text/x-python",
   "name": "python",
   "nbconvert_exporter": "python",
   "pygments_lexer": "ipython3",
   "version": "3.7.4"
  }
 },
 "nbformat": 4,
 "nbformat_minor": 4
}
